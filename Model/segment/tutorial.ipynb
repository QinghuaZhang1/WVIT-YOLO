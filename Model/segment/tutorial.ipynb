version https://git-lfs.github.com/spec/v1
oid sha256:c20951a0708b2b2ac78b06541331e848b1710b15b2108a86c3e6208aa1cd9d9b
size 43398
